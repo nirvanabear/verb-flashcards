{
 "cells": [
  {
   "cell_type": "code",
   "execution_count": null,
   "id": "a94ec4b7-12a5-4e79-a90f-5ea626593742",
   "metadata": {
    "tags": []
   },
   "outputs": [],
   "source": [
    "from selenium.webdriver.firefox.options import Options\n",
    "from selenium import webdriver\n",
    "from selenium.webdriver.common.by import By\n",
    "from selenium.webdriver.common.keys import Keys\n",
    "from selenium.common.exceptions import TimeoutException\n",
    "from selenium.webdriver.support.ui import WebDriverWait\n",
    "from selenium.webdriver.support import expected_conditions\n",
    "\n",
    "import time\n",
    "import re\n",
    "import os\n",
    "\n",
    "browser = webdriver.Firefox()"
   ]
  },
  {
   "cell_type": "markdown",
   "id": "3ff94e10-0892-4c97-a1f3-921d6b97e1dc",
   "metadata": {},
   "source": [
    "<br>\n",
    "\n",
    "---\n",
    "* <u>Wait for browser to load<u/>"
   ]
  },
  {
   "cell_type": "code",
   "execution_count": null,
   "id": "133665da-9ca0-417d-9af6-5f903e8557f3",
   "metadata": {},
   "outputs": [],
   "source": [
    "word_list = '''Parler to speak\n",
    "    Être to be\n",
    "    Avoir to have\n",
    "    Aller to go\n",
    "    Faire to make\n",
    "    Prendre to take\n",
    "    Venir to come\n",
    "    Pouvoir to able\n",
    "    Vouloir to want\n",
    "    Mettre to put'''"
   ]
  },
  {
   "cell_type": "code",
   "execution_count": null,
   "id": "c647e139-34f2-4783-82a7-2f21d5e24505",
   "metadata": {},
   "outputs": [],
   "source": [
    "word_parse = re.split(r\"\\s.o\\s|\\n\\s*|\\n\", word_list.lower())\n",
    "\n",
    "conj_list = []\n",
    "for k in range(len(word_parse)):\n",
    "    if not k%2:\n",
    "        conj_list.append([word_parse[k].lower(), word_parse[k+1].lower()])\n",
    "conj_list"
   ]
  },
  {
   "cell_type": "code",
   "execution_count": null,
   "id": "1f77e34d-bfe9-4216-bd7b-47335e8b9375",
   "metadata": {},
   "outputs": [],
   "source": [
    "starttime = time.time()\n",
    "\n",
    "\n",
    "french_page = \"https://www.the-conjugation.com/french/\"\n",
    "english_page = \"https://www.the-conjugation.com/\"\n",
    "temps_de_verbe = [\"Indicatif\", \"Passé simple\"]\n",
    "verb_tenses = [\"Simple present\", \"Simple past\"]\n",
    "output = \"\"\n",
    "\n",
    "for pair in conj_list:\n",
    "     # ****** French ******\n",
    "    browser.get(french_page)\n",
    "\n",
    "    timeout = 10\n",
    "    try:\n",
    "        element_present = expected_conditions.presence_of_element_located((By.TAG_NAME, 'h1'))\n",
    "        WebDriverWait(browser, timeout).until(element_present)\n",
    "    except TimeoutException:\n",
    "        print(\"Timed out waiting for page to load\")\n",
    "    finally:\n",
    "        print(\"Page loaded\")\n",
    "\n",
    "    search_bar = browser.find_element(By.NAME, \"q\")\n",
    "    webdriver.ActionChains(browser).click(search_bar).perform()\n",
    "    search_bar.send_keys(pair[0] + Keys.RETURN)\n",
    "\n",
    "    time.sleep(3)\n",
    "    html_français = browser.page_source\n",
    "    \n",
    "    # ****** English ******\n",
    "    browser.get(english_page)\n",
    "\n",
    "    timeout = 10\n",
    "    try:\n",
    "        element_present = expected_conditions.presence_of_element_located((By.TAG_NAME, 'h1'))\n",
    "        WebDriverWait(browser, timeout).until(element_present)\n",
    "    except TimeoutException:\n",
    "        print(\"Timed out waiting for page to load\")\n",
    "    finally:\n",
    "        print(\"Page loaded\")\n",
    "\n",
    "    search_bar = browser.find_element(By.NAME, \"q\")\n",
    "    webdriver.ActionChains(browser).click(search_bar).perform()\n",
    "    search_bar.send_keys(pair[1] + Keys.RETURN)\n",
    "    \n",
    "    time.sleep(3)\n",
    "    english_html = browser.page_source\n",
    "\n",
    "\n",
    "\n",
    "    # Parse source code and format for upload to flashcard website.\n",
    "    for i in range(len(verb_tenses)):\n",
    "        try:\n",
    "            temp = re.findall(fr'{temps_de_verbe[i]}.*?tempscorps.>(.+?)div', html_français) # list of a single string.\n",
    "            conj_present = re.split(r'</b><br>|<br>', temp[0]) # list of raw words.\n",
    "        except IndexError:\n",
    "            print(f\"IndexError: {pair[0]} failed.\")\n",
    "            continue\n",
    "        try:\n",
    "            tense = re.findall(fr'{verb_tenses[i]}.*?tempscorps.>(.+?)div', english_html) # list of a single string.\n",
    "            present_conj = re.split(r'</b><br>|<br>', tense[0]) # list of raw words.\n",
    "        except IndexError:\n",
    "            print(f\"IndexError: {pair[1]} failed.\")\n",
    "            continue\n",
    "        # Alternate French and English terms into formatted output.\n",
    "        for j in range(len(present_conj)):\n",
    "            if conj_present[j] != \"</\":\n",
    "                mot_propre = re.sub(\"<b>\", \"\", conj_present[j])         \n",
    "                output = output + mot_propre + \",\"\n",
    "            if present_conj[j] != \"</\":\n",
    "                clean_word = re.sub(\"<b>\", \"\", present_conj[j])\n",
    "                output = output + clean_word + \";\"\n",
    "\n",
    "\n",
    "totaltime = time.time() - starttime\n",
    "print(f\"\\n****** {totaltime//60:.0f}m {totaltime%60:.2f}s ******\")"
   ]
  },
  {
   "cell_type": "code",
   "execution_count": null,
   "id": "5bb6175a-f9eb-4ce6-9f12-4fd35dd78664",
   "metadata": {
    "tags": []
   },
   "outputs": [],
   "source": [
    "output"
   ]
  },
  {
   "cell_type": "markdown",
   "id": "3ba56071-dc7f-459f-b35a-67741faf2689",
   "metadata": {},
   "source": [
    "<br>\n",
    "\n",
    "---\n",
    "* <u>Quit browser when all downloads are done</u>"
   ]
  },
  {
   "cell_type": "code",
   "execution_count": null,
   "id": "8559a8ef-a571-43eb-9b1a-a44627e92dc9",
   "metadata": {},
   "outputs": [],
   "source": [
    "browser.quit()"
   ]
  }
 ],
 "metadata": {
  "kernelspec": {
   "display_name": "Web Tools",
   "language": "python",
   "name": "sequential-downloader-4zb48iqw"
  },
  "language_info": {
   "codemirror_mode": {
    "name": "ipython",
    "version": 3
   },
   "file_extension": ".py",
   "mimetype": "text/x-python",
   "name": "python",
   "nbconvert_exporter": "python",
   "pygments_lexer": "ipython3",
   "version": "3.9.10"
  }
 },
 "nbformat": 4,
 "nbformat_minor": 5
}
