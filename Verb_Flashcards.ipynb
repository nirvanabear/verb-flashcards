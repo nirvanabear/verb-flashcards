{
 "cells": [
  {
   "cell_type": "code",
   "execution_count": 145,
   "id": "739bb64a-5df6-4455-9e8b-337d09ffe0ab",
   "metadata": {},
   "outputs": [],
   "source": [
    "from selenium.webdriver.firefox.options import Options\n",
    "from selenium import webdriver\n",
    "from selenium.webdriver.common.by import By\n",
    "from selenium.webdriver.common.keys import Keys\n",
    "from selenium.common.exceptions import TimeoutException\n",
    "from selenium.webdriver.support.ui import WebDriverWait\n",
    "from selenium.webdriver.support import expected_conditions\n",
    "\n",
    "import time\n",
    "import re\n",
    "import os\n",
    "\n",
    "from itertools import cycle\n",
    "\n",
    "browser = webdriver.Firefox()"
   ]
  },
  {
   "cell_type": "markdown",
   "id": "4c90c5b7-0284-4e94-9c89-1c6e999024ce",
   "metadata": {},
   "source": [
    "——————————— Wait for browser to load ————————————"
   ]
  },
  {
   "cell_type": "code",
   "execution_count": 146,
   "id": "9b3e71d2-d638-4564-96f7-14029001c7ae",
   "metadata": {},
   "outputs": [],
   "source": [
    "def string_to_list_of_pairs(vocab_list):\n",
    "    '''Takes string of verb vocab words, separated by spaces\n",
    "    and newlines, removes the \"to\" from english infinitive\n",
    "    and returns a list of lists of the string pairs.'''\n",
    "    remove_to = vocab_list.replace('to ', '')\n",
    "    word_parse = re.split(r\"\\s|\\n\", remove_to.lower())\n",
    "\n",
    "    conj_list = []\n",
    "    for k in range(len(word_parse)):\n",
    "        if not k%2:\n",
    "            conj_list.append([word_parse[k].lower(), word_parse[k+1].lower()])\n",
    "    return conj_list\n",
    "\n",
    "\n",
    "def get_page_source(word, webpage):\n",
    "    '''Takes a verb string and the appropriate langauge version\n",
    "    of the-conjugation.com and returns the html source code\n",
    "    as a string containing all of the verb's conjugations'''\n",
    "    browser.get(webpage)\n",
    "    \n",
    "    # Check if the webpage loaded before proceeding.\n",
    "    timeout = 10\n",
    "    try:\n",
    "        element_present = expected_conditions.presence_of_element_located((By.TAG_NAME, 'h1'))\n",
    "        WebDriverWait(browser, timeout).until(element_present)\n",
    "    except TimeoutException:\n",
    "        print(\"Timed out waiting for page to load\")\n",
    "    finally:\n",
    "        print(\"Page loaded\")\n",
    "    \n",
    "    # Locate search field and input word.\n",
    "    search_bar = browser.find_element(By.NAME, \"q\")\n",
    "    webdriver.ActionChains(browser).click(search_bar).perform()\n",
    "    search_bar.send_keys(word + Keys.RETURN)\n",
    "\n",
    "    time.sleep(3)\n",
    "    return browser.page_source\n",
    "\n",
    "\n",
    "def store_source_code(word, source_code, storage_dict):\n",
    "    '''Stores html source code of a conjugated verb for\n",
    "    offline use.'''\n",
    "    storage_dict[word] = source_code\n",
    "    return storage_dict\n",
    "\n",
    "\n",
    "def parse_source_for_conjugate(verb_tense, source_code):\n",
    "    '''Takes html source code string with all the conjugations \n",
    "    of a certain verb, parses it for the conjugation of the\n",
    "    given verb tense, and returns a list of conjugations.'''\n",
    "    try:\n",
    "        # list of a single string\n",
    "        tense = re.findall(fr'{verb_tense}.*?tempscorps.>(.+?)div', source_code) \n",
    "        # list of raw words\n",
    "        messy_conjugates = re.split(r'</b><br>|<br>', tense[0])\n",
    "        # list of cleaned up words\n",
    "        conjugates = []\n",
    "        for verb_phrase in messy_conjugates:\n",
    "            if verb_phrase != \"</\":\n",
    "                cleaned_phrase = re.sub(\"<b>\", \"\", verb_phrase) \n",
    "                conjugates.append(cleaned_phrase)\n",
    "    except IndexError:\n",
    "        print(f\"IndexError: {pair[0]} failed.\")\n",
    "    return conjugates\n",
    "\n",
    "\n",
    "def sort_terms_into_dict(conjugated_lists):\n",
    "    '''Takes list of lists of ordered conjugations,\n",
    "    associates one language with its translation and returns\n",
    "    a dictionary.'''\n",
    "    first_flatlist = [conj for sublist in conjugated_lists[0] for conj in sublist]\n",
    "    second_flatlist = [conj for sublist in conjugated_lists[1] for conj in sublist]\n",
    "    blank = {}\n",
    "    # paired_terms = blank.fromkeys(second_flatlist, [])   BAD!!!\n",
    "    paired_terms = {key: '' for key in second_flatlist}\n",
    "    recycling_keys = cycle(second_flatlist)\n",
    "    for term in first_flatlist:\n",
    "        # type(print(term))\n",
    "        next_key = next(recycling_keys)\n",
    "        paired_terms[next_key] += ' ' + term + '.'\n",
    "    return paired_terms  \n",
    "\n",
    "\n",
    "def format_into_quizlet_upload(paired_terms, output):\n",
    "    '''Takes dictionary of terms and translations and appends\n",
    "    them to an output string that is formatted for uploading\n",
    "    to the quizlet.com website.'''\n",
    "    for key in paired_terms:\n",
    "        output += f\"{paired_terms[key]}, {key};\"\n",
    "    return output"
   ]
  },
  {
   "cell_type": "code",
   "execution_count": 147,
   "id": "aaed04b3-b128-4b6d-9c70-b1ee2d4dce2e",
   "metadata": {},
   "outputs": [],
   "source": [
    "french_page = \"https://www.the-conjugation.com/french/\"\n",
    "english_page = \"https://www.the-conjugation.com/\"\n",
    "webpages = [french_page, english_page]\n",
    "\n",
    "# temps_de_verbe = [\"Indicatif\", \"Passé simple\", \"Passé composé\", \"Imparfait\", \"Futur simple\", \"Subjonctif\"]\n",
    "# verb_tenses = [\"Simple present\", \"Simple past\", \"Future\"]\n",
    "\n",
    "verb_tenses = [[\"Passé composé\", \"Imparfait\", \"Passé simple\"], [\"Simple past\"]]"
   ]
  },
  {
   "cell_type": "code",
   "execution_count": 148,
   "id": "a8e09e37-a60d-4e25-be72-78794d3a7a36",
   "metadata": {},
   "outputs": [],
   "source": [
    "vocab_list = '''aller go\n",
    "avoir have'''"
   ]
  },
  {
   "cell_type": "markdown",
   "id": "9f6ce68b-4e40-45e3-8940-ad6c1b113142",
   "metadata": {},
   "source": [
    "* Run cell below to empty the source code storage"
   ]
  },
  {
   "cell_type": "code",
   "execution_count": 149,
   "id": "129c721e-68fc-4f6a-8a84-e59e6b21cf8c",
   "metadata": {},
   "outputs": [],
   "source": [
    "source_storage = {}"
   ]
  },
  {
   "cell_type": "markdown",
   "id": "6d859c78-768a-43ce-9134-d1c6e2a35068",
   "metadata": {},
   "source": [
    "* Main"
   ]
  },
  {
   "cell_type": "code",
   "execution_count": 162,
   "id": "1ed9ba1d-d0c5-474e-bd05-18a23b3f88e6",
   "metadata": {
    "tags": []
   },
   "outputs": [
    {
     "name": "stdout",
     "output_type": "stream",
     "text": [
      " je vais. je suis allé., I went; tu vas. tu es allé., you  went; il va. il est allé., he went; nous allons. nous sommes allés., we went; vous allez. vous êtes allés., you went; ils vont. ils sont allés., they went; j'ai. j'ai eu., I had; tu as. tu as eu., you  had; il a. il a eu., he had; nous avons. nous avons eu., we had; vous avez. vous avez eu., you had; ils ont. ils ont eu., they had;\n",
      "\n",
      "****** 0m 0.006s ******\n"
     ]
    }
   ],
   "source": [
    "starttime = time.time()\n",
    "\n",
    "output = \"\"\n",
    "\n",
    "pairs_list = string_to_list_of_pairs(vocab_list)\n",
    "# print(pairs_list)\n",
    "\n",
    "for pair in pairs_list:\n",
    "    conjugated_lists = [[],[]]\n",
    "    for i in range(len(pair)):\n",
    "        if pair[i] not in source_storage:\n",
    "            source_code = get_page_source(pair[i], webpages[i])\n",
    "            store_source_code(pair[i], source_code, source_storage)\n",
    "        else:\n",
    "            source_code = source_storage[pair[i]]\n",
    "        for tense in verb_tenses[i]:\n",
    "            # with tense and source, extract list of\n",
    "            # conjugations\n",
    "            conjugates = parse_source_for_conjugate(tense, source_code)\n",
    "            conjugated_lists[i].append(conjugates)\n",
    "    # print(conjugated_lists)\n",
    "    term_and_def_dict = sort_terms_into_dict(conjugated_lists)\n",
    "    output = format_into_quizlet_upload(term_and_def_dict, output)\n",
    "\n",
    "print(output)\n",
    "\n",
    "totaltime = time.time() - starttime\n",
    "print(f\"\\n****** {totaltime//60:.0f}m {totaltime%60:.3f}s ******\")"
   ]
  }
 ],
 "metadata": {
  "kernelspec": {
   "display_name": "Web Tools",
   "language": "python",
   "name": "sequential-downloader-4zb48iqw"
  },
  "language_info": {
   "codemirror_mode": {
    "name": "ipython",
    "version": 3
   },
   "file_extension": ".py",
   "mimetype": "text/x-python",
   "name": "python",
   "nbconvert_exporter": "python",
   "pygments_lexer": "ipython3",
   "version": "3.9.10"
  }
 },
 "nbformat": 4,
 "nbformat_minor": 5
}
